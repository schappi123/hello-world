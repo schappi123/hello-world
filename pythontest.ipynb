{
 "cells": [
  {
   "cell_type": "code",
   "execution_count": 3,
   "metadata": {},
   "outputs": [
    {
     "name": "stdout",
     "output_type": "stream",
     "text": [
      "hello\n",
      "6\n",
      "python ist cool\n"
     ]
    }
   ],
   "source": [
    "print(\"hello\")\n",
    "print(2+4)\n",
    "a=\"python\"\n",
    "b=\"ist\"\n",
    "c=\"cool\"\n",
    "print(a,b,c)"
   ]
  },
  {
   "cell_type": "code",
   "execution_count": 1,
   "metadata": {},
   "outputs": [
    {
     "name": "stdout",
     "output_type": "stream",
     "text": [
      "what is you namepeter\n",
      "hello peter\n"
     ]
    }
   ],
   "source": [
    "name=input(\"what is you name\")\n",
    "print(\"hello\", name)"
   ]
  },
  {
   "cell_type": "code",
   "execution_count": 17,
   "metadata": {},
   "outputs": [
    {
     "name": "stdout",
     "output_type": "stream",
     "text": [
      "8\n",
      "575450121\n",
      "370125820964678703672476\n",
      "0.5\n",
      "3.0\n",
      "8\n",
      "12\n",
      "0\n",
      "3\n",
      "3.3333333333333335\n",
      "1\n",
      "4\n",
      "10000000000\n",
      "0b11\n",
      "11\n"
     ]
    }
   ],
   "source": [
    "print(2+6)\n",
    "print(575443466+6655)\n",
    "print(56643335677*6534322467788)\n",
    "print(1/2)\n",
    "print(6/2)\n",
    "print(2+2*3)\n",
    "print((2+2)*3)\n",
    "#ganzzahl division mit //\n",
    "print(1//2)\n",
    "print(6//2)\n",
    "#modulo restmenge%\n",
    "print(10/3)\n",
    "print(10%3)\n",
    "#potenz **\n",
    "print(2**2)\n",
    "print(10**10)\n",
    "#binärzahl konvert\n",
    "print(bin(3))\n",
    "print(format(3,'b'))"
   ]
  },
  {
   "cell_type": "code",
   "execution_count": 19,
   "metadata": {},
   "outputs": [
    {
     "name": "stdout",
     "output_type": "stream",
     "text": [
      "1 True\n",
      "2 False\n"
     ]
    }
   ],
   "source": [
    "#boolsche ausdrücke\n",
    "a=6\n",
    "b=7\n",
    "print(1,a==6)\n",
    "print(2,a==7)"
   ]
  }
 ],
 "metadata": {
  "kernelspec": {
   "display_name": "Python 3",
   "language": "python",
   "name": "python3"
  },
  "language_info": {
   "codemirror_mode": {
    "name": "ipython",
    "version": 3
   },
   "file_extension": ".py",
   "mimetype": "text/x-python",
   "name": "python",
   "nbconvert_exporter": "python",
   "pygments_lexer": "ipython3",
   "version": "3.7.8"
  }
 },
 "nbformat": 4,
 "nbformat_minor": 4
}
